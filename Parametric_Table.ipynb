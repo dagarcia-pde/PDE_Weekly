{
 "cells": [
  {
   "cell_type": "code",
   "execution_count": 3,
   "metadata": {},
   "outputs": [],
   "source": [
    "import pandas as pd\n",
    "import os\n",
    "from datetime import datetime, timedelta\n",
    "\n",
    "config_file_path = 'Config.csv'"
   ]
  },
  {
   "cell_type": "code",
   "execution_count": 4,
   "metadata": {},
   "outputs": [],
   "source": [
    "def set_flags(x,limit_type,r_limit,y_limit):\n",
    "    flag = 'G'\n",
    "    if limit_type == 'UCL':\n",
    "        if x >= r_limit:\n",
    "            flag = 'R'\n",
    "        elif x>= y_limit:\n",
    "            flag = 'Y'\n",
    "    else:\n",
    "        if x <= r_limit:\n",
    "            flag = 'R'\n",
    "        elif x<= y_limit:\n",
    "            flag = 'Y'        \n",
    "    return flag\n",
    "\n",
    "def load_prod_data(server,product,details,limits,debug=False):\n",
    "    tech = details['TECH']\n",
    "    prod = details['PART']\n",
    "    rev = details['REV']\n",
    "    idv_unit = details['IDV_UNIT']\n",
    "    sicc_unit = details['SICC_UNIT']\n",
    "    cap_unit = details['CAPABILITY_UNIT']\n",
    "    cdyn_unit = details['CDYN_UNIT']\n",
    "    \n",
    "    \n",
    "    folders = r'\\Actuals\\Last_49_Days'\n",
    "    if tech=='P1273':\n",
    "        folders = r'\\Actuals\\Last_49Days'\n",
    "    \n",
    "    file_path = os.path.join(r'\\\\'+server,tech+r'_Data'+folders,prod+'.csv')\n",
    "    \n",
    "    # debug = True\n",
    "    df = pd.read_csv(file_path)\n",
    "    # if debug: print(df.head())\n",
    "\n",
    "    if debug:\n",
    "        col_check = 1\n",
    "        num_rows = df.shape[0]\n",
    "        print(f\"Column check {col_check} = {num_rows}\")\n",
    "        col_check +=1\n",
    "        \n",
    "    df = df[df['PROCESS_REV'] == rev]\n",
    "\n",
    "    if debug:\n",
    "        num_rows = df.shape[0]\n",
    "        print(f\"Column check {col_check} = {num_rows}\")\n",
    "        col_check +=1\n",
    "\n",
    "    df['SORT_DATE'] = pd.to_datetime(df['SORT_DATE'], errors='coerce')\n",
    "    # Calculate the start and end dates for the last 4 full weeks\n",
    "    today = datetime.today()\n",
    "    start_of_this_week = today - timedelta(days=today.weekday() + 1)\n",
    "    start_of_4th_last_full_week = start_of_this_week - timedelta(weeks=4)\n",
    "\n",
    "    # Filter the DataFrame for the last 4 full weeks\n",
    "    df = df[\n",
    "        (df['SORT_DATE'] >= start_of_4th_last_full_week)\n",
    "    ]\n",
    "    if debug:\n",
    "        num_rows = df.shape[0]\n",
    "        print(f\"Column check {col_check} = {num_rows}\")\n",
    "        col_check +=1\n",
    "\n",
    "    possible_columns = ['IDV', 'SICC', 'CAPABILITY', 'CDYN']\n",
    "    columns_of_interest = []\n",
    "    \n",
    "    for col in possible_columns:        \n",
    "        if pd.notna(details[col]) and details[col] != '':\n",
    "            columns_of_interest.append(col)\n",
    "            df[col] = df[details[col]]\n",
    "    \n",
    "    means = df.groupby('FAB')[columns_of_interest].mean().reset_index()\n",
    "    means['TECH'] = tech\n",
    "    means['PRODUCT'] = product\n",
    "    # print(means)\n",
    "\n",
    "    # for col in columns_of_interest:\n",
    "    #     if col == 'SICC':\n",
    "    #         mult = 1000\n",
    "    #         if sicc_unit != 'mA': mult=1\n",
    "    #         means['SICC'] = means['SICC']*mult\n",
    "    #         digits = 2\n",
    "    #         # means['SICC'] = means['SICC'].round(2)\n",
    "    #     elif col == 'CDYN':\n",
    "    #         digits = 2\n",
    "    #     else:\n",
    "    #         if idv_unit == 'Mhz':\n",
    "    #             digits = 0\n",
    "    #         else:\n",
    "    #             digits = 2\n",
    "    #     means[col] = means[col].round(digits)\n",
    "            \n",
    "\n",
    " \n",
    "\n",
    "        \n",
    "    \n",
    "    # for col in columns_of_interest:\n",
    "        # means[col+'_Flag'] = 'Green'\n",
    "        \n",
    "    for col in columns_of_interest:\n",
    "    # print(col)\n",
    "        limit_type = limits[col+'_TYPE']\n",
    "        target = details[col+'_TGT']\n",
    "        r_limit = target*(1+limits[col+'_RED'])\n",
    "        y_limit = target*(1+limits[col+'_YELLOW'])\n",
    "        means[col+'_FLAG'] = means[col].apply(set_flags, args=(limit_type, r_limit, y_limit))\n",
    "    \n",
    "\n",
    "    \n",
    "    return means\n",
    "    \n",
    "    "
   ]
  },
  {
   "cell_type": "code",
   "execution_count": 5,
   "metadata": {},
   "outputs": [],
   "source": [
    "def load_excel_to_dict(file_path,key_col):\n",
    "    df = pd.read_csv(file_path)\n",
    "    temp_dict = {}\n",
    "    for _, row in df.iterrows():\n",
    "        key = row[key_col]\n",
    "        temp_dict[key] = row.drop(key_col).to_dict()\n",
    "    return temp_dict"
   ]
  },
  {
   "cell_type": "code",
   "execution_count": 6,
   "metadata": {},
   "outputs": [],
   "source": [
    "prod_dict = load_excel_to_dict('Config.csv','PRODUCT')\n",
    "limit_dict = load_excel_to_dict('Tech_Limits.csv','TECH')"
   ]
  },
  {
   "cell_type": "code",
   "execution_count": 7,
   "metadata": {},
   "outputs": [],
   "source": [
    "# prod_dict"
   ]
  },
  {
   "cell_type": "code",
   "execution_count": 8,
   "metadata": {},
   "outputs": [
    {
     "name": "stdout",
     "output_type": "stream",
     "text": [
      "ADL PCH-P\n"
     ]
    },
    {
     "name": "stderr",
     "output_type": "stream",
     "text": [
      "C:\\Users\\dagarcia\\AppData\\Local\\Temp\\ipykernel_31988\\1270321126.py:32: DtypeWarning: Columns (282,283,284,285) have mixed types. Specify dtype option on import or set low_memory=False.\n",
      "  df = pd.read_csv(file_path)\n"
     ]
    },
    {
     "name": "stdout",
     "output_type": "stream",
     "text": [
      "RPL816\n"
     ]
    },
    {
     "name": "stderr",
     "output_type": "stream",
     "text": [
      "C:\\Users\\dagarcia\\AppData\\Local\\Temp\\ipykernel_31988\\1270321126.py:32: DtypeWarning: Columns (25,29,31) have mixed types. Specify dtype option on import or set low_memory=False.\n",
      "  df = pd.read_csv(file_path)\n"
     ]
    },
    {
     "name": "stdout",
     "output_type": "stream",
     "text": [
      "RPL68\n"
     ]
    },
    {
     "name": "stderr",
     "output_type": "stream",
     "text": [
      "C:\\Users\\dagarcia\\AppData\\Local\\Temp\\ipykernel_31988\\1270321126.py:32: DtypeWarning: Columns (25,29,31) have mixed types. Specify dtype option on import or set low_memory=False.\n",
      "  df = pd.read_csv(file_path)\n"
     ]
    },
    {
     "name": "stdout",
     "output_type": "stream",
     "text": [
      "SPRXCC\n"
     ]
    },
    {
     "name": "stderr",
     "output_type": "stream",
     "text": [
      "C:\\Users\\dagarcia\\AppData\\Local\\Temp\\ipykernel_31988\\1270321126.py:32: DtypeWarning: Columns (25,29,31) have mixed types. Specify dtype option on import or set low_memory=False.\n",
      "  df = pd.read_csv(file_path)\n"
     ]
    },
    {
     "name": "stdout",
     "output_type": "stream",
     "text": [
      "GNRXCC\n"
     ]
    },
    {
     "name": "stderr",
     "output_type": "stream",
     "text": [
      "C:\\Users\\dagarcia\\AppData\\Local\\Temp\\ipykernel_31988\\1270321126.py:32: DtypeWarning: Columns (452,453,454,455,456,457) have mixed types. Specify dtype option on import or set low_memory=False.\n",
      "  df = pd.read_csv(file_path)\n"
     ]
    },
    {
     "name": "stdout",
     "output_type": "stream",
     "text": [
      "GNRHCC\n",
      "GNRLCC\n"
     ]
    }
   ],
   "source": [
    "server = 'rasinkul-desk'\n",
    "\n",
    "temp_dfs = []\n",
    "for product, details in prod_dict.items():\n",
    "# if True:\n",
    "#     product = 'RPL68'\n",
    "    # details = prod_dict['RPL68']\n",
    "    print(product)\n",
    "    limits = limit_dict[details['TECH']]\n",
    "    # product = details['PART']\n",
    "\n",
    "    temp_df = load_prod_data(server=server, product=product, details=details,limits=limits, debug=False)\n",
    "\n",
    "    temp_dfs.append(temp_df)\n",
    "    \n",
    "final_df = pd.concat(temp_dfs, ignore_index=True)\n"
   ]
  },
  {
   "cell_type": "code",
   "execution_count": 9,
   "metadata": {},
   "outputs": [
    {
     "data": {
      "text/html": [
       "<div>\n",
       "<style scoped>\n",
       "    .dataframe tbody tr th:only-of-type {\n",
       "        vertical-align: middle;\n",
       "    }\n",
       "\n",
       "    .dataframe tbody tr th {\n",
       "        vertical-align: top;\n",
       "    }\n",
       "\n",
       "    .dataframe thead th {\n",
       "        text-align: right;\n",
       "    }\n",
       "</style>\n",
       "<table border=\"1\" class=\"dataframe\">\n",
       "  <thead>\n",
       "    <tr style=\"text-align: right;\">\n",
       "      <th></th>\n",
       "      <th>TECH</th>\n",
       "      <th>PRODUCT</th>\n",
       "      <th>FAB</th>\n",
       "      <th>IDV</th>\n",
       "      <th>SICC</th>\n",
       "      <th>CAPABILITY</th>\n",
       "      <th>CDYN</th>\n",
       "      <th>IDV_FLAG</th>\n",
       "      <th>SICC_FLAG</th>\n",
       "      <th>CAPABILITY_FLAG</th>\n",
       "      <th>CDYN_FLAG</th>\n",
       "    </tr>\n",
       "  </thead>\n",
       "  <tbody>\n",
       "    <tr>\n",
       "      <th>0</th>\n",
       "      <td>P1273</td>\n",
       "      <td>ADL PCH-P</td>\n",
       "      <td>F24</td>\n",
       "      <td>9520.222263</td>\n",
       "      <td>0.095056</td>\n",
       "      <td>9510.681627</td>\n",
       "      <td>NaN</td>\n",
       "      <td>G</td>\n",
       "      <td>G</td>\n",
       "      <td>G</td>\n",
       "      <td>NaN</td>\n",
       "    </tr>\n",
       "    <tr>\n",
       "      <th>1</th>\n",
       "      <td>P1274</td>\n",
       "      <td>RPL816</td>\n",
       "      <td>F28</td>\n",
       "      <td>16584.981192</td>\n",
       "      <td>0.031468</td>\n",
       "      <td>16629.935605</td>\n",
       "      <td>3.492748</td>\n",
       "      <td>G</td>\n",
       "      <td>G</td>\n",
       "      <td>G</td>\n",
       "      <td>G</td>\n",
       "    </tr>\n",
       "    <tr>\n",
       "      <th>2</th>\n",
       "      <td>P1274</td>\n",
       "      <td>RPL816</td>\n",
       "      <td>F32</td>\n",
       "      <td>16607.819760</td>\n",
       "      <td>0.029542</td>\n",
       "      <td>16729.223163</td>\n",
       "      <td>3.487375</td>\n",
       "      <td>G</td>\n",
       "      <td>G</td>\n",
       "      <td>G</td>\n",
       "      <td>G</td>\n",
       "    </tr>\n",
       "    <tr>\n",
       "      <th>3</th>\n",
       "      <td>P1274</td>\n",
       "      <td>RPL68</td>\n",
       "      <td>F28</td>\n",
       "      <td>16333.107514</td>\n",
       "      <td>0.014727</td>\n",
       "      <td>16287.956189</td>\n",
       "      <td>3.255290</td>\n",
       "      <td>G</td>\n",
       "      <td>G</td>\n",
       "      <td>G</td>\n",
       "      <td>G</td>\n",
       "    </tr>\n",
       "    <tr>\n",
       "      <th>4</th>\n",
       "      <td>P1274</td>\n",
       "      <td>RPL68</td>\n",
       "      <td>F32</td>\n",
       "      <td>16202.200000</td>\n",
       "      <td>0.012312</td>\n",
       "      <td>16322.820388</td>\n",
       "      <td>3.253750</td>\n",
       "      <td>G</td>\n",
       "      <td>G</td>\n",
       "      <td>G</td>\n",
       "      <td>G</td>\n",
       "    </tr>\n",
       "    <tr>\n",
       "      <th>5</th>\n",
       "      <td>P1274</td>\n",
       "      <td>SPRXCC</td>\n",
       "      <td>F32</td>\n",
       "      <td>14886.986867</td>\n",
       "      <td>13.457923</td>\n",
       "      <td>14969.200844</td>\n",
       "      <td>2.779017</td>\n",
       "      <td>G</td>\n",
       "      <td>G</td>\n",
       "      <td>G</td>\n",
       "      <td>G</td>\n",
       "    </tr>\n",
       "    <tr>\n",
       "      <th>6</th>\n",
       "      <td>P1276</td>\n",
       "      <td>GNRXCC</td>\n",
       "      <td>D1D</td>\n",
       "      <td>1.094642</td>\n",
       "      <td>1.029286</td>\n",
       "      <td>1.089877</td>\n",
       "      <td>2.083024</td>\n",
       "      <td>G</td>\n",
       "      <td>G</td>\n",
       "      <td>G</td>\n",
       "      <td>G</td>\n",
       "    </tr>\n",
       "    <tr>\n",
       "      <th>7</th>\n",
       "      <td>P1276</td>\n",
       "      <td>GNRXCC</td>\n",
       "      <td>F34</td>\n",
       "      <td>1.101377</td>\n",
       "      <td>1.042842</td>\n",
       "      <td>1.094222</td>\n",
       "      <td>2.085056</td>\n",
       "      <td>G</td>\n",
       "      <td>G</td>\n",
       "      <td>G</td>\n",
       "      <td>G</td>\n",
       "    </tr>\n",
       "    <tr>\n",
       "      <th>8</th>\n",
       "      <td>P1276</td>\n",
       "      <td>GNRHCC</td>\n",
       "      <td>D1D</td>\n",
       "      <td>1.081342</td>\n",
       "      <td>0.832278</td>\n",
       "      <td>1.109123</td>\n",
       "      <td>2.102867</td>\n",
       "      <td>R</td>\n",
       "      <td>G</td>\n",
       "      <td>G</td>\n",
       "      <td>G</td>\n",
       "    </tr>\n",
       "    <tr>\n",
       "      <th>9</th>\n",
       "      <td>P1276</td>\n",
       "      <td>GNRHCC</td>\n",
       "      <td>F34</td>\n",
       "      <td>1.101710</td>\n",
       "      <td>1.048644</td>\n",
       "      <td>1.094043</td>\n",
       "      <td>2.098778</td>\n",
       "      <td>G</td>\n",
       "      <td>G</td>\n",
       "      <td>G</td>\n",
       "      <td>G</td>\n",
       "    </tr>\n",
       "    <tr>\n",
       "      <th>10</th>\n",
       "      <td>P1276</td>\n",
       "      <td>GNRLCC</td>\n",
       "      <td>F34</td>\n",
       "      <td>1.120156</td>\n",
       "      <td>1.284454</td>\n",
       "      <td>1.077741</td>\n",
       "      <td>2.103265</td>\n",
       "      <td>G</td>\n",
       "      <td>R</td>\n",
       "      <td>R</td>\n",
       "      <td>G</td>\n",
       "    </tr>\n",
       "  </tbody>\n",
       "</table>\n",
       "</div>"
      ],
      "text/plain": [
       "     TECH    PRODUCT  FAB           IDV       SICC    CAPABILITY      CDYN  \\\n",
       "0   P1273  ADL PCH-P  F24   9520.222263   0.095056   9510.681627       NaN   \n",
       "1   P1274     RPL816  F28  16584.981192   0.031468  16629.935605  3.492748   \n",
       "2   P1274     RPL816  F32  16607.819760   0.029542  16729.223163  3.487375   \n",
       "3   P1274      RPL68  F28  16333.107514   0.014727  16287.956189  3.255290   \n",
       "4   P1274      RPL68  F32  16202.200000   0.012312  16322.820388  3.253750   \n",
       "5   P1274     SPRXCC  F32  14886.986867  13.457923  14969.200844  2.779017   \n",
       "6   P1276     GNRXCC  D1D      1.094642   1.029286      1.089877  2.083024   \n",
       "7   P1276     GNRXCC  F34      1.101377   1.042842      1.094222  2.085056   \n",
       "8   P1276     GNRHCC  D1D      1.081342   0.832278      1.109123  2.102867   \n",
       "9   P1276     GNRHCC  F34      1.101710   1.048644      1.094043  2.098778   \n",
       "10  P1276     GNRLCC  F34      1.120156   1.284454      1.077741  2.103265   \n",
       "\n",
       "   IDV_FLAG SICC_FLAG CAPABILITY_FLAG CDYN_FLAG  \n",
       "0         G         G               G       NaN  \n",
       "1         G         G               G         G  \n",
       "2         G         G               G         G  \n",
       "3         G         G               G         G  \n",
       "4         G         G               G         G  \n",
       "5         G         G               G         G  \n",
       "6         G         G               G         G  \n",
       "7         G         G               G         G  \n",
       "8         R         G               G         G  \n",
       "9         G         G               G         G  \n",
       "10        G         R               R         G  "
      ]
     },
     "execution_count": 9,
     "metadata": {},
     "output_type": "execute_result"
    }
   ],
   "source": [
    "desired_order = ['TECH','PRODUCT','FAB','IDV','SICC','CAPABILITY','CDYN','IDV_FLAG','SICC_FLAG','CAPABILITY_FLAG','CDYN_FLAG']\n",
    "    \n",
    "final_df = final_df[desired_order]\n",
    "final_df"
   ]
  },
  {
   "cell_type": "code",
   "execution_count": 10,
   "metadata": {},
   "outputs": [],
   "source": [
    "final_df.to_csv('output.csv')"
   ]
  },
  {
   "cell_type": "code",
   "execution_count": 22,
   "metadata": {},
   "outputs": [],
   "source": [
    "import Opeda_Scraper as opeda1\n",
    "\n",
    "temp_dir = r\"D:\\Python\\PDE_Weekly\\Temp\"\n",
    "\n",
    "binsplit = opeda1.Opeda_Scraper(url=r'https://opeda.intel.com/binsplit',download_dir=temp_dir)\n"
   ]
  },
  {
   "cell_type": "code",
   "execution_count": 23,
   "metadata": {},
   "outputs": [
    {
     "name": "stdout",
     "output_type": "stream",
     "text": [
      "{'PS2CV', '8PG3CV', 'PQFDCV', 'PQGCV'}\n"
     ]
    }
   ],
   "source": [
    "\n",
    "unique_opeda_prods = set()\n",
    "for product, details in prod_dict.items():\n",
    "    if pd.notna(details['OPEDA_PROD']):\n",
    "        unique_opeda_prods.add(details['OPEDA_PROD'])\n",
    "\n",
    "print(unique_opeda_prods)"
   ]
  },
  {
   "cell_type": "code",
   "execution_count": 25,
   "metadata": {},
   "outputs": [
    {
     "name": "stdout",
     "output_type": "stream",
     "text": [
      "PS2CV\n"
     ]
    },
    {
     "ename": "ElementClickInterceptedException",
     "evalue": "Message: element click intercepted: Element <button _ngcontent-xdv-c309=\"\" title=\"Download to Excel\" class=\"btn btn-default px-1 py-0 border-0\">...</button> is not clickable at point (2102, 222). Other element would receive the click: <div class=\"overlay-spinner\" style=\"width: 1826.86px; height: 65.1429px; top: 210.902px; left: 304px; position: fixed; z-index: 10; background-color: rgba(255, 255, 255, 0.98); display: flex; justify-content: center; align-items: center;\">...</div>\n  (Session info: chrome=132.0.6834.160)\nStacktrace:\n\tGetHandleVerifier [0x011B74A3+25091]\n\t(No symbol) [0x0113DC04]\n\t(No symbol) [0x0101B373]\n\t(No symbol) [0x010654B8]\n\t(No symbol) [0x010638C4]\n\t(No symbol) [0x01061467]\n\t(No symbol) [0x0106076A]\n\t(No symbol) [0x010553A5]\n\t(No symbol) [0x01081F0C]\n\t(No symbol) [0x01054E44]\n\t(No symbol) [0x010821A4]\n\t(No symbol) [0x0109B49E]\n\t(No symbol) [0x01081CA6]\n\t(No symbol) [0x010531D5]\n\t(No symbol) [0x0105435D]\n\tGetHandleVerifier [0x014B07C3+3142947]\n\tGetHandleVerifier [0x014C1A2B+3213195]\n\tGetHandleVerifier [0x014BC412+3191154]\n\tGetHandleVerifier [0x01258720+685184]\n\t(No symbol) [0x01146E1D]\n\t(No symbol) [0x01143E18]\n\t(No symbol) [0x01143FB6]\n\t(No symbol) [0x011366F0]\n\tBaseThreadInitThunk [0x75F9FCC9+25]\n\tRtlGetAppContainerNamedObjectPath [0x770A809E+286]\n\tRtlGetAppContainerNamedObjectPath [0x770A806E+238]\n",
     "output_type": "error",
     "traceback": [
      "\u001b[1;31m---------------------------------------------------------------------------\u001b[0m",
      "\u001b[1;31mElementClickInterceptedException\u001b[0m          Traceback (most recent call last)",
      "Cell \u001b[1;32mIn[25], line 3\u001b[0m\n\u001b[0;32m      1\u001b[0m \u001b[38;5;28;01mfor\u001b[39;00m opeda_prod \u001b[38;5;129;01min\u001b[39;00m unique_opeda_prods:\n\u001b[0;32m      2\u001b[0m     \u001b[38;5;28mprint\u001b[39m(opeda_prod)\n\u001b[1;32m----> 3\u001b[0m     \u001b[43mbinsplit\u001b[49m\u001b[38;5;241;43m.\u001b[39;49m\u001b[43mpull_product_data\u001b[49m\u001b[43m(\u001b[49m\u001b[43mopeda_prod\u001b[49m\u001b[43m)\u001b[49m\n",
      "File \u001b[1;32md:\\Python\\PDE_Weekly\\Opeda_Scraper.py:62\u001b[0m, in \u001b[0;36mOpeda_Scraper.pull_product_data\u001b[1;34m(self, prod)\u001b[0m\n\u001b[0;32m     59\u001b[0m time\u001b[38;5;241m.\u001b[39msleep(\u001b[38;5;241m5\u001b[39m)\n\u001b[0;32m     61\u001b[0m download_button \u001b[38;5;241m=\u001b[39m \u001b[38;5;28mself\u001b[39m\u001b[38;5;241m.\u001b[39mdriver\u001b[38;5;241m.\u001b[39mfind_element(By\u001b[38;5;241m.\u001b[39mXPATH, \u001b[38;5;124m\"\u001b[39m\u001b[38;5;124m//button[@title=\u001b[39m\u001b[38;5;124m'\u001b[39m\u001b[38;5;124mDownload to Excel\u001b[39m\u001b[38;5;124m'\u001b[39m\u001b[38;5;124m]\u001b[39m\u001b[38;5;124m\"\u001b[39m)\n\u001b[1;32m---> 62\u001b[0m \u001b[43mdownload_button\u001b[49m\u001b[38;5;241;43m.\u001b[39;49m\u001b[43mclick\u001b[49m\u001b[43m(\u001b[49m\u001b[43m)\u001b[49m \n\u001b[0;32m     63\u001b[0m time\u001b[38;5;241m.\u001b[39msleep(\u001b[38;5;241m5\u001b[39m)     \n\u001b[0;32m     65\u001b[0m original_file \u001b[38;5;241m=\u001b[39m os\u001b[38;5;241m.\u001b[39mpath\u001b[38;5;241m.\u001b[39mjoin(\u001b[38;5;28mself\u001b[39m\u001b[38;5;241m.\u001b[39mdownload_dir, \u001b[38;5;124m\"\u001b[39m\u001b[38;5;124mgrid.csv\u001b[39m\u001b[38;5;124m\"\u001b[39m)\n",
      "File \u001b[1;32md:\\Python\\PDE_Weekly\\env\\Lib\\site-packages\\selenium\\webdriver\\remote\\webelement.py:119\u001b[0m, in \u001b[0;36mWebElement.click\u001b[1;34m(self)\u001b[0m\n\u001b[0;32m    111\u001b[0m \u001b[38;5;28;01mdef\u001b[39;00m\u001b[38;5;250m \u001b[39m\u001b[38;5;21mclick\u001b[39m(\u001b[38;5;28mself\u001b[39m) \u001b[38;5;241m-\u001b[39m\u001b[38;5;241m>\u001b[39m \u001b[38;5;28;01mNone\u001b[39;00m:\n\u001b[0;32m    112\u001b[0m \u001b[38;5;250m    \u001b[39m\u001b[38;5;124;03m\"\"\"Clicks the element.\u001b[39;00m\n\u001b[0;32m    113\u001b[0m \n\u001b[0;32m    114\u001b[0m \u001b[38;5;124;03m    Example:\u001b[39;00m\n\u001b[1;32m   (...)\u001b[0m\n\u001b[0;32m    117\u001b[0m \u001b[38;5;124;03m    >>> element.click()\u001b[39;00m\n\u001b[0;32m    118\u001b[0m \u001b[38;5;124;03m    \"\"\"\u001b[39;00m\n\u001b[1;32m--> 119\u001b[0m     \u001b[38;5;28;43mself\u001b[39;49m\u001b[38;5;241;43m.\u001b[39;49m\u001b[43m_execute\u001b[49m\u001b[43m(\u001b[49m\u001b[43mCommand\u001b[49m\u001b[38;5;241;43m.\u001b[39;49m\u001b[43mCLICK_ELEMENT\u001b[49m\u001b[43m)\u001b[49m\n",
      "File \u001b[1;32md:\\Python\\PDE_Weekly\\env\\Lib\\site-packages\\selenium\\webdriver\\remote\\webelement.py:570\u001b[0m, in \u001b[0;36mWebElement._execute\u001b[1;34m(self, command, params)\u001b[0m\n\u001b[0;32m    568\u001b[0m     params \u001b[38;5;241m=\u001b[39m {}\n\u001b[0;32m    569\u001b[0m params[\u001b[38;5;124m\"\u001b[39m\u001b[38;5;124mid\u001b[39m\u001b[38;5;124m\"\u001b[39m] \u001b[38;5;241m=\u001b[39m \u001b[38;5;28mself\u001b[39m\u001b[38;5;241m.\u001b[39m_id\n\u001b[1;32m--> 570\u001b[0m \u001b[38;5;28;01mreturn\u001b[39;00m \u001b[38;5;28;43mself\u001b[39;49m\u001b[38;5;241;43m.\u001b[39;49m\u001b[43m_parent\u001b[49m\u001b[38;5;241;43m.\u001b[39;49m\u001b[43mexecute\u001b[49m\u001b[43m(\u001b[49m\u001b[43mcommand\u001b[49m\u001b[43m,\u001b[49m\u001b[43m \u001b[49m\u001b[43mparams\u001b[49m\u001b[43m)\u001b[49m\n",
      "File \u001b[1;32md:\\Python\\PDE_Weekly\\env\\Lib\\site-packages\\selenium\\webdriver\\remote\\webdriver.py:429\u001b[0m, in \u001b[0;36mWebDriver.execute\u001b[1;34m(self, driver_command, params)\u001b[0m\n\u001b[0;32m    427\u001b[0m response \u001b[38;5;241m=\u001b[39m \u001b[38;5;28mself\u001b[39m\u001b[38;5;241m.\u001b[39mcommand_executor\u001b[38;5;241m.\u001b[39mexecute(driver_command, params)\n\u001b[0;32m    428\u001b[0m \u001b[38;5;28;01mif\u001b[39;00m response:\n\u001b[1;32m--> 429\u001b[0m     \u001b[38;5;28;43mself\u001b[39;49m\u001b[38;5;241;43m.\u001b[39;49m\u001b[43merror_handler\u001b[49m\u001b[38;5;241;43m.\u001b[39;49m\u001b[43mcheck_response\u001b[49m\u001b[43m(\u001b[49m\u001b[43mresponse\u001b[49m\u001b[43m)\u001b[49m\n\u001b[0;32m    430\u001b[0m     response[\u001b[38;5;124m\"\u001b[39m\u001b[38;5;124mvalue\u001b[39m\u001b[38;5;124m\"\u001b[39m] \u001b[38;5;241m=\u001b[39m \u001b[38;5;28mself\u001b[39m\u001b[38;5;241m.\u001b[39m_unwrap_value(response\u001b[38;5;241m.\u001b[39mget(\u001b[38;5;124m\"\u001b[39m\u001b[38;5;124mvalue\u001b[39m\u001b[38;5;124m\"\u001b[39m, \u001b[38;5;28;01mNone\u001b[39;00m))\n\u001b[0;32m    431\u001b[0m     \u001b[38;5;28;01mreturn\u001b[39;00m response\n",
      "File \u001b[1;32md:\\Python\\PDE_Weekly\\env\\Lib\\site-packages\\selenium\\webdriver\\remote\\errorhandler.py:232\u001b[0m, in \u001b[0;36mErrorHandler.check_response\u001b[1;34m(self, response)\u001b[0m\n\u001b[0;32m    230\u001b[0m         alert_text \u001b[38;5;241m=\u001b[39m value[\u001b[38;5;124m\"\u001b[39m\u001b[38;5;124malert\u001b[39m\u001b[38;5;124m\"\u001b[39m]\u001b[38;5;241m.\u001b[39mget(\u001b[38;5;124m\"\u001b[39m\u001b[38;5;124mtext\u001b[39m\u001b[38;5;124m\"\u001b[39m)\n\u001b[0;32m    231\u001b[0m     \u001b[38;5;28;01mraise\u001b[39;00m exception_class(message, screen, stacktrace, alert_text)  \u001b[38;5;66;03m# type: ignore[call-arg]  # mypy is not smart enough here\u001b[39;00m\n\u001b[1;32m--> 232\u001b[0m \u001b[38;5;28;01mraise\u001b[39;00m exception_class(message, screen, stacktrace)\n",
      "\u001b[1;31mElementClickInterceptedException\u001b[0m: Message: element click intercepted: Element <button _ngcontent-xdv-c309=\"\" title=\"Download to Excel\" class=\"btn btn-default px-1 py-0 border-0\">...</button> is not clickable at point (2102, 222). Other element would receive the click: <div class=\"overlay-spinner\" style=\"width: 1826.86px; height: 65.1429px; top: 210.902px; left: 304px; position: fixed; z-index: 10; background-color: rgba(255, 255, 255, 0.98); display: flex; justify-content: center; align-items: center;\">...</div>\n  (Session info: chrome=132.0.6834.160)\nStacktrace:\n\tGetHandleVerifier [0x011B74A3+25091]\n\t(No symbol) [0x0113DC04]\n\t(No symbol) [0x0101B373]\n\t(No symbol) [0x010654B8]\n\t(No symbol) [0x010638C4]\n\t(No symbol) [0x01061467]\n\t(No symbol) [0x0106076A]\n\t(No symbol) [0x010553A5]\n\t(No symbol) [0x01081F0C]\n\t(No symbol) [0x01054E44]\n\t(No symbol) [0x010821A4]\n\t(No symbol) [0x0109B49E]\n\t(No symbol) [0x01081CA6]\n\t(No symbol) [0x010531D5]\n\t(No symbol) [0x0105435D]\n\tGetHandleVerifier [0x014B07C3+3142947]\n\tGetHandleVerifier [0x014C1A2B+3213195]\n\tGetHandleVerifier [0x014BC412+3191154]\n\tGetHandleVerifier [0x01258720+685184]\n\t(No symbol) [0x01146E1D]\n\t(No symbol) [0x01143E18]\n\t(No symbol) [0x01143FB6]\n\t(No symbol) [0x011366F0]\n\tBaseThreadInitThunk [0x75F9FCC9+25]\n\tRtlGetAppContainerNamedObjectPath [0x770A809E+286]\n\tRtlGetAppContainerNamedObjectPath [0x770A806E+238]\n"
     ]
    }
   ],
   "source": [
    "for opeda_prod in unique_opeda_prods:\n",
    "    print(opeda_prod)\n",
    "    binsplit.pull_product_data(opeda_prod)"
   ]
  },
  {
   "cell_type": "code",
   "execution_count": 162,
   "metadata": {},
   "outputs": [],
   "source": [
    "import numpy as np\n",
    "from openpyxl import Workbook\n",
    "from openpyxl.styles import Font, Alignment"
   ]
  },
  {
   "cell_type": "code",
   "execution_count": 163,
   "metadata": {},
   "outputs": [],
   "source": [
    "wb = Workbook()\n",
    "ws = wb.active"
   ]
  },
  {
   "cell_type": "code",
   "execution_count": 164,
   "metadata": {},
   "outputs": [],
   "source": [
    "bold_font = Font(bold=True)\n",
    "blue_font = Font(color=\"0000FF\")\n",
    "green_font = Font(color=\"00B050\")\n",
    "orange_font = Font(color=\"FF9900\")\n",
    "center_alignment = Alignment(horizontal=\"center\", vertical=\"center\")"
   ]
  },
  {
   "cell_type": "code",
   "execution_count": 165,
   "metadata": {},
   "outputs": [],
   "source": [
    "ws['A1'] = 'Benchmark/Goal'\n",
    "ws['A1'].font = bold_font\n",
    "ws['A1'].alignment = center_alignment\n",
    "\n",
    "ws['B1'] = 'F32'\n",
    "ws['B1'].font = bold_font\n",
    "ws['B1'].alignment = center_alignment\n",
    "\n",
    "ws['C1'] = 'F28'\n",
    "ws['C1'].font = bold_font\n",
    "ws['C1'].alignment = center_alignment\n"
   ]
  },
  {
   "cell_type": "code",
   "execution_count": 166,
   "metadata": {},
   "outputs": [
    {
     "data": {
      "text/plain": [
       "'Mhz'"
      ]
     },
     "execution_count": 166,
     "metadata": {},
     "output_type": "execute_result"
    }
   ],
   "source": [
    "prod_dict['RPL816']['IDV_UNIT']"
   ]
  },
  {
   "cell_type": "code",
   "execution_count": 167,
   "metadata": {},
   "outputs": [],
   "source": [
    "def get_value(df, prod_dict, product, fab, column):\n",
    "    unit = prod_dict[product][column+'_UNIT']\n",
    "    \n",
    "    mult = 1\n",
    "    if column == 'SICC':\n",
    "        mult = 1000\n",
    "        if unit != 'mA': mult=1\n",
    "        # means['SICC'] = means['SICC']*mult\n",
    "        digits = 2\n",
    "    elif column == 'CDYN':\n",
    "        digits = 2\n",
    "    else:\n",
    "        if unit == 'Mhz':\n",
    "            digits = 0\n",
    "        else:\n",
    "            digits = 2\n",
    "    if unit == \"NONE\": unit = \"\"\n",
    "    print(unit)\n",
    "    print(mult)\n",
    "    print(digits)\n",
    "    \n",
    "    values = df[(df['PRODUCT'] == product) & (df['FAB'] == fab)][column].values\n",
    "    value = values[0]*mult\n",
    "    rnd_value = np.round(value, decimals=digits)\n",
    "    formatted_value = f\"{rnd_value:.{digits}f}{unit}\"\n",
    "    return formatted_value\n",
    "\n",
    "def get_flag(df, product, fab, column):\n",
    "    flag = df[(df['PRODUCT'] == product) & (df['FAB'] == fab)][column].values\n",
    "    return flag[0] if len(flag) > 0 else None"
   ]
  },
  {
   "cell_type": "code",
   "execution_count": 170,
   "metadata": {},
   "outputs": [
    {
     "name": "stdout",
     "output_type": "stream",
     "text": [
      "A\n",
      "1\n",
      "2\n"
     ]
    },
    {
     "data": {
      "text/plain": [
       "'1.08A'"
      ]
     },
     "execution_count": 170,
     "metadata": {},
     "output_type": "execute_result"
    }
   ],
   "source": [
    "get_value(final_df, prod_dict, 'GNRHCC', 'F34','SICC')"
   ]
  },
  {
   "cell_type": "code",
   "execution_count": null,
   "metadata": {},
   "outputs": [],
   "source": [
    "rows = [\n",
    "    ['IDV > Target-0.5%',\n",
    "     f\"\"]\n",
    "]"
   ]
  }
 ],
 "metadata": {
  "kernelspec": {
   "display_name": "env",
   "language": "python",
   "name": "python3"
  },
  "language_info": {
   "codemirror_mode": {
    "name": "ipython",
    "version": 3
   },
   "file_extension": ".py",
   "mimetype": "text/x-python",
   "name": "python",
   "nbconvert_exporter": "python",
   "pygments_lexer": "ipython3",
   "version": "3.13.1"
  }
 },
 "nbformat": 4,
 "nbformat_minor": 2
}
